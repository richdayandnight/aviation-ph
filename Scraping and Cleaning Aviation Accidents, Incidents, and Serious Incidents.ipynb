{
 "cells": [
  {
   "cell_type": "markdown",
   "metadata": {},
   "source": [
    "## Civil Aviation Authority of the Philippines - Civil Aviation Accidents, Incidents, and Serious Incidents"
   ]
  },
  {
   "cell_type": "markdown",
   "metadata": {},
   "source": [
    "Data Source:\n",
    "https://www.caap.gov.ph/\n",
    "\n",
    "The *same data* can be found at [Open Data Philippines](https://data.gov.ph/?q=dataset/civil-aviation-authority-philippines-aircraft-accidents), but I chose to scrape the Civil Aviation Authority of the Philippines (CAAP) website since it contains more complete information on aircraft accidents, incidents, and serious incidents. I also found that there are some error in the data uploaded by CAAP in the Open Data Philippines website.\n",
    "\n",
    "#### Errors found in the data uploaded at [Open Data Philippines](https://data.gov.ph/?q=dataset/civil-aviation-authority-philippines-aircraft-accidents):  \n",
    "- [(Typo?) Error found at 6th row of place of occurrence column:](https://data.gov.ph/?q=dataset/civil-aviation-authority-philippines-aircraft-accidents/resource/29c1d129-11b2-4aac-89e7#{view-grid:{columnsWidth:[{column:!place_of_occurance,width:504}]}})\n",
    "The place of occurrence written is 'Runway Excursion during Landing' which is not a place. The correct row is found at the [CAAP 2014 Accidents Page](https://www.caap.gov.ph/?page_id=3096).\n",
    "- Occurrence is mispelled as 'occurance' on the Place of Occurrence and Type of Occurrence columns.\n"
   ]
  },
  {
   "cell_type": "code",
   "execution_count": null,
   "metadata": {},
   "outputs": [],
   "source": [
    "import glob\n",
    "import pandas as pd\n",
    "import requests\n",
    "from bs4 import BeautifulSoup"
   ]
  },
  {
   "cell_type": "code",
   "execution_count": null,
   "metadata": {},
   "outputs": [],
   "source": [
    "# Get website source\n",
    "website = (requests.get(\"https://www.caap.gov.ph/\").text) \n",
    "soup = BeautifulSoup(website, 'lxml')"
   ]
  },
  {
   "cell_type": "code",
   "execution_count": null,
   "metadata": {},
   "outputs": [],
   "source": [
    "# Find the 'Aircraft Accident and Incident Report'\n",
    "dd = soup.find(\"dd\", {\"class\": \"level1 nextend-nav-6425 parent\"})"
   ]
  },
  {
   "cell_type": "code",
   "execution_count": null,
   "metadata": {},
   "outputs": [],
   "source": [
    "# Get the description terms of dt('Aircraft Accident and Incident Report')\n",
    "dt = dd.find_all(\"dt\")\n",
    "print(dt)"
   ]
  },
  {
   "cell_type": "code",
   "execution_count": null,
   "metadata": {},
   "outputs": [],
   "source": [
    "accident_urls = []\n",
    "incident_urls = []\n",
    "serious_incident_urls = []\n",
    "switch = 'a'\n",
    "for item in dt:\n",
    "    if item.find(\"a\").get_text() == 'Accidents':\n",
    "        continue\n",
    "    if item.find(\"a\").get_text() == 'Incidents':\n",
    "        switch = 'i'\n",
    "        continue\n",
    "    if item.find(\"a\").get_text() == 'Serious Incidents':\n",
    "        switch = 's'\n",
    "        continue\n",
    "    if switch == 'a':\n",
    "        accident_urls.append(item.find(\"a\")['href'])\n",
    "    elif switch == 'i':\n",
    "        incident_urls.append(item.find(\"a\")['href'])\n",
    "    else:\n",
    "        #print(item.find(\"a\"))\n",
    "        serious_incident_urls.append(item.find(\"a\")['href'])"
   ]
  },
  {
   "cell_type": "code",
   "execution_count": null,
   "metadata": {},
   "outputs": [],
   "source": [
    "# Check contents of url\n",
    "print(\"List of accident url: \", accident_urls)\n",
    "print(\"List of incident url: \", incident_urls)\n",
    "print(\"List of serious incident url: \", serious_incident_urls)"
   ]
  },
  {
   "cell_type": "code",
   "execution_count": null,
   "metadata": {},
   "outputs": [],
   "source": [
    "def get_data(url_list):\n",
    "    \"\"\"\n",
    "    Get the concatenated DataFrame from the url in the url_list\n",
    "    \n",
    "    @param url_list: List of urls from the CAAP website (accident, incident, or serious_incident)\n",
    "    \"\"\"\n",
    "    data_df = pd.DataFrame(columns=['date', 'aircraft_registration', 'aircraft_type', 'type_of_occurance',\n",
    "                                           'place_of_occurance', 'status', 'report', 'report_link'])\n",
    "    for url in url_list:\n",
    "        print(url)\n",
    "        website = (requests.get(url).text)\n",
    "        soup = BeautifulSoup(website, 'lxml')\n",
    "        accident_table = soup.find('tbody')\n",
    "        listOfRows = accident_table.find_all('tr')\n",
    "        temp_data_df = pd.DataFrame(columns=['date', 'aircraft_registration', 'aircraft_type', 'type_of_occurance',\n",
    "                                           'place_of_occurance', 'status', 'report', 'report_link'])\n",
    "        i = 0\n",
    "        for row in listOfRows:\n",
    "            listOfCells = row.find_all('td')\n",
    "            if len(listOfCells) == 7 and listOfCells[6].get_text() == \"Back\":\n",
    "                continue\n",
    "            if len(listOfCells) == 7 and i > 1:\n",
    "                getText = lambda x: x.get_text()\n",
    "                # print(listOfCells[3])\n",
    "                temp_data_df.loc[i] = list(map(getText, listOfCells)) + list([listOfCells[6].find('a')['href']])\n",
    "            i += 1\n",
    "        data_df = pd.concat([data_df,temp_data_df], axis = 0)\n",
    "    return data_df"
   ]
  },
  {
   "cell_type": "code",
   "execution_count": null,
   "metadata": {},
   "outputs": [],
   "source": [
    "accident_df = get_data(accident_urls)\n",
    "incident_df = get_data(incident_urls)\n",
    "serious_incident_df = get_data(serious_incident_urls)"
   ]
  },
  {
   "cell_type": "code",
   "execution_count": null,
   "metadata": {},
   "outputs": [],
   "source": [
    "accident_df"
   ]
  },
  {
   "cell_type": "code",
   "execution_count": null,
   "metadata": {},
   "outputs": [],
   "source": [
    "accident_df = accident_df.reset_index(drop=True)\n",
    "incident_df = incident_df.reset_index(drop=True)\n",
    "serious_incident_df = serious_incident_df.reset_index(drop=True)"
   ]
  },
  {
   "cell_type": "markdown",
   "metadata": {},
   "source": [
    "#### Get geolocation of the Place of Occurrence column\n",
    "\n",
    "Originally, I used the Nominatim's geocoders to get the location's coordinates (`from geopy.geocoders import Nominatim`); however, it returned a lot of Nones because of the inconsistent addresses. I switched to the Googlemaps api which returns the closest address string location if the exact location isn't found. For example, in the 2008 ACCIDENTS Dataset, \"Taliban, Bohol\" is one of the places of occurrence. Nominatim's geocoder returns None, while Google maps returns details of \"Talibon, Bohol\"."
   ]
  },
  {
   "cell_type": "code",
   "execution_count": null,
   "metadata": {},
   "outputs": [],
   "source": [
    "import googlemaps\n",
    "from datetime import datetime\n",
    "\n",
    "with open('api_key.txt') as f:\n",
    "    api_key = f.readline()\n",
    "    f.close\n",
    "gmaps = googlemaps.Client(api_key)"
   ]
  },
  {
   "cell_type": "code",
   "execution_count": null,
   "metadata": {},
   "outputs": [],
   "source": [
    "# Geocode helper functions\n",
    "\n",
    "# returns the geocode (json containing details of the location)\n",
    "def google_get_geocode(location):\n",
    "    try: \n",
    "        geocode_result = gmaps.geocode(location)\n",
    "        return geocode_result[0]\n",
    "    except: return None\n",
    "\n",
    "# returns latitude given the geocode json\n",
    "def google_get_latitude(geocode):\n",
    "    try: \n",
    "        return geocode['geometry']['location']['lat']\n",
    "    except: \n",
    "        return None\n",
    "\n",
    "# returns longitude given the geocode json\n",
    "def google_get_longitude(geocode):\n",
    "    try: \n",
    "        return geocode['geometry']['location']['lng']\n",
    "    except: \n",
    "        return None\n",
    "\n",
    "# returns address given the geocode json\n",
    "def google_get_address(geocode):\n",
    "    try: \n",
    "        return geocode['formatted_address']\n",
    "    except: \n",
    "        return None"
   ]
  },
  {
   "cell_type": "code",
   "execution_count": null,
   "metadata": {},
   "outputs": [],
   "source": [
    "geocode_data = []\n",
    "data_list = [accident_df, incident_df, serious_incident_df]\n",
    "\n",
    "# get geocode, latitude, longitude, and formatted address of each place of occurrence \n",
    "# in the accident_df, incident_df, and serious_incident_df tables\n",
    "for table in data_list:\n",
    "    table['geocode'] = table.place_of_occurance.apply(google_get_geocode)\n",
    "    table['latitude'] = table.geocode.apply(google_get_latitude)\n",
    "    table['longitude'] = table.geocode.apply(google_get_longitude)\n",
    "    table['formatted_address'] = table.geocode.apply(google_get_address)"
   ]
  },
  {
   "cell_type": "code",
   "execution_count": null,
   "metadata": {},
   "outputs": [],
   "source": [
    "# Check how many 'None' geocode of the places of occurrence did the google maps return\n",
    "print(f\"Accident_df: \\n{accident_df.geocode.isna().value_counts()}\\n\")\n",
    "print(f\"Incident_df: \\n{incident_df.geocode.isna().value_counts()}\\n\", )\n",
    "print(f\"Serious_incident_df: \\n{serious_incident_df.geocode.isna().value_counts()}\", )"
   ]
  },
  {
   "cell_type": "markdown",
   "metadata": {},
   "source": [
    "Manually input the geocode, latitude, longitude, and formatted_address of the 4 places of occurrence with 'None' geocodes."
   ]
  },
  {
   "cell_type": "code",
   "execution_count": null,
   "metadata": {},
   "outputs": [],
   "source": [
    "accident_df.loc[accident_df.geocode.isna()]"
   ]
  },
  {
   "cell_type": "code",
   "execution_count": null,
   "metadata": {},
   "outputs": [],
   "source": [
    "temp = pd.DataFrame({'latitude' : [3.65, 14.49], 'longitude': [160.266667, 121.001500]})\n",
    "accident_df.loc[accident_df.geocode.isna(), ['latitude', 'longitude']] = temp.values"
   ]
  },
  {
   "cell_type": "markdown",
   "metadata": {},
   "source": [
    "- September 9, 2018\n",
    "    - International Water near the Federated States of Micronesia\n",
    "        - As listed from the report_link the helicopter's final position was noted at coordinates 3°39'00.0\"N 160°16'00.0\"E (latitude: 3.650000, longitude: 160.266667)\n",
    "- May 8, 2013\n",
    "    - MIA, Runway 06 (Ninoy Aquino International Airport Runway 06)\n",
    "        - 14°29'54.6\"N 121°00'05.4\"E (latitude: 14.498500, longitude: 121.001500)"
   ]
  },
  {
   "cell_type": "code",
   "execution_count": null,
   "metadata": {},
   "outputs": [],
   "source": [
    "incident_df.loc[incident_df.geocode.isna()]"
   ]
  },
  {
   "cell_type": "code",
   "execution_count": null,
   "metadata": {},
   "outputs": [],
   "source": [
    "temp = pd.DataFrame({'latitude' : [14.522667, 121.005000], 'longitude': [14.524806, 121.001028]})\n",
    "incident_df.loc[incident_df.geocode.isna(), ['latitude', 'longitude']] = temp.values"
   ]
  },
  {
   "cell_type": "markdown",
   "metadata": {},
   "source": [
    "- Mar 12, 2010\n",
    "    - Runway 13 Extension\n",
    "        - NAIA Runway 13 Extension 14°31'21.6\"N 121°00'18.0\"E (latitude: 14.522667, longitude: 121.005000)\n",
    "- Jan 24, 2010\n",
    "    - Gen. Aviation Area, Domestic Airport\n",
    "        - Domestic Airport, Brgy 191, Pasay City 14°31'29.3\"N 121°00'03.7\"E (latitude: 14.524806, longitude: 121.001028)"
   ]
  },
  {
   "cell_type": "code",
   "execution_count": null,
   "metadata": {},
   "outputs": [],
   "source": [
    "serious_incident_df.loc[serious_incident_df.geocode.isna()]"
   ]
  },
  {
   "cell_type": "markdown",
   "metadata": {},
   "source": [
    "Looks like geocode is returned successfully for all the places of occurrence in the serious incident table."
   ]
  },
  {
   "cell_type": "markdown",
   "metadata": {},
   "source": [
    "#### Clean date column"
   ]
  },
  {
   "cell_type": "code",
   "execution_count": null,
   "metadata": {},
   "outputs": [],
   "source": [
    "from datetime import datetime\n",
    "\n",
    "def try_parsing_date(text):\n",
    "    for fmt in ('%B %d, %Y', '%b %d, %Y', '%b %d,%Y', '%B %d %Y'):\n",
    "        try:\n",
    "            return datetime.strptime(text, fmt)\n",
    "        except ValueError:\n",
    "            pass\n",
    "    raise ValueError('no valid date format found')\n",
    "\n",
    "accident_df['date'] = accident_df['date'].apply(try_parsing_date)\n",
    "incident_df.loc[incident_df['date'].str.contains('Sept '), 'date'] = incident_df.loc[incident_df['date'].str.contains('Sept '), 'date'].str.replace(\"Sept\", \"September\")\n",
    "incident_df.loc[incident_df['date'].str.contains('Apirl'), 'date'] = incident_df.loc[incident_df['date'].str.contains('Apirl '), 'date'].str.replace(\"Apirl\", \"April\")\n",
    "incident_df['date'] = incident_df['date'].apply(try_parsing_date)\n",
    "serious_incident_df['date'] = serious_incident_df['date'].apply(try_parsing_date)"
   ]
  },
  {
   "cell_type": "markdown",
   "metadata": {},
   "source": [
    "#### Clean aircraft_registration column"
   ]
  },
  {
   "cell_type": "code",
   "execution_count": null,
   "metadata": {},
   "outputs": [],
   "source": [
    "# accident_df = pd.read_csv(\"accidents.csv\")\n",
    "# incident_df = pd.read_csv(\"incidents.csv\")\n",
    "# serious_incident_df = pd.read_csv(\"serious_incidents.csv\")"
   ]
  },
  {
   "cell_type": "markdown",
   "metadata": {},
   "source": [
    "Check if there's any inconsistencies with the format of the aircraft_registration column"
   ]
  },
  {
   "cell_type": "code",
   "execution_count": null,
   "metadata": {},
   "outputs": [],
   "source": [
    "accident_df.aircraft_registration.unique()"
   ]
  },
  {
   "cell_type": "code",
   "execution_count": null,
   "metadata": {},
   "outputs": [],
   "source": [
    "tempRow = accident_df.loc[accident_df.aircraft_registration == \"RP-R4169 & RP-R3029\"]\n",
    "tempRow"
   ]
  },
  {
   "cell_type": "code",
   "execution_count": null,
   "metadata": {},
   "outputs": [],
   "source": [
    "x = tempRow.aircraft_registration.str.split(' & ').tolist()\n",
    "y = tempRow.aircraft_type.str.split(' & ').tolist()\n",
    "\n",
    "b  = pd.DataFrame([list(map(lambda pair: {'reg': pair[0], 'type': pair[1]}, zip(x[0], y[0])))], \n",
    "             index=[tempRow.date, \n",
    "                    tempRow.type_of_occurance,\n",
    "                    tempRow.place_of_occurance,\n",
    "                    tempRow.status,\n",
    "                    tempRow.report,\n",
    "                    tempRow.report_link,\n",
    "                    tempRow.geocode,\n",
    "                    tempRow.latitude,\n",
    "                    tempRow.longitude,\n",
    "                    tempRow.formatted_address]).stack()\n",
    "\n",
    "b = b.reset_index()[[0, \n",
    "                     'date', \n",
    "                     'type_of_occurance', \n",
    "                     'place_of_occurance',\n",
    "                     'status', \n",
    "                     'report', \n",
    "                     'report_link', \n",
    "                     'geocode',\n",
    "                     'latitude',\n",
    "                     'longitude', \n",
    "                     'formatted_address']]\n",
    "\n",
    "b.columns = ['temp',\n",
    "             'date', \n",
    "             'type_of_occurance',  \n",
    "             'place_of_occurance', \n",
    "             'status', \n",
    "             'report', \n",
    "             'report_link', \n",
    "             'geocode', \n",
    "             'longitude', \n",
    "             'latitude', \n",
    "             'formatted_address']\n",
    "\n",
    "b['aircraft_registration'] = b.temp.loc[:].apply(lambda x: x.get('reg'))\n",
    "b['aircraft_type'] = b.temp.loc[:].apply(lambda x: x.get('type'))\n",
    "b = b.drop('temp', axis=1)\n",
    "b\n"
   ]
  },
  {
   "cell_type": "code",
   "execution_count": null,
   "metadata": {},
   "outputs": [],
   "source": [
    "# drop row with inconsistent string format for aircraft type and reg\n",
    "accident_df = accident_df.drop(accident_df.loc[accident_df.aircraft_registration == \"RP-R4169 & RP-R3029\"].index, axis=0)"
   ]
  },
  {
   "cell_type": "code",
   "execution_count": null,
   "metadata": {},
   "outputs": [],
   "source": [
    "accident_df = pd.concat([accident_df, b], sort=True)\n",
    "accident_df.reset_index(drop=True)"
   ]
  },
  {
   "cell_type": "code",
   "execution_count": null,
   "metadata": {},
   "outputs": [],
   "source": [
    "print(incident_df.aircraft_registration.unique())\n",
    "print(serious_incident_df.aircraft_registration.unique())"
   ]
  },
  {
   "cell_type": "markdown",
   "metadata": {},
   "source": [
    "---\n",
    "### Save to csv"
   ]
  },
  {
   "cell_type": "code",
   "execution_count": 1,
   "metadata": {},
   "outputs": [],
   "source": [
    "import os\n",
    "directory = 'data'\n",
    "if not os.path.exists(directory):\n",
    "    os.makedirs(directory)"
   ]
  },
  {
   "cell_type": "code",
   "execution_count": null,
   "metadata": {},
   "outputs": [],
   "source": [
    "dict_df = {'accidents.csv': accident_df, \n",
    "           'incidents.csv': incident_df, \n",
    "           'serious_incidents.csv': serious_incident_df}\n",
    "path = os.path.join(directory, \"report.csv\")\n",
    "for key,val in dict_df.items():\n",
    "    val.to_csv(os.path.join(directory, \"report.csv\"), encoding='utf-8', index=False)"
   ]
  },
  {
   "cell_type": "markdown",
   "metadata": {},
   "source": [
    "Recommendations:\n",
    "\n",
    "Explore other database like:\n",
    "- https://aviation-safety.net/database/country/country.php?id=RP\n",
    "- http://planecrashinfo.com/"
   ]
  },
  {
   "cell_type": "code",
   "execution_count": null,
   "metadata": {},
   "outputs": [],
   "source": [
    "# accident_df.loc[90:110]"
   ]
  }
 ],
 "metadata": {
  "kernelspec": {
   "display_name": "Python 3",
   "language": "python",
   "name": "python3"
  },
  "language_info": {
   "codemirror_mode": {
    "name": "ipython",
    "version": 3
   },
   "file_extension": ".py",
   "mimetype": "text/x-python",
   "name": "python",
   "nbconvert_exporter": "python",
   "pygments_lexer": "ipython3",
   "version": "3.6.9"
  }
 },
 "nbformat": 4,
 "nbformat_minor": 2
}
